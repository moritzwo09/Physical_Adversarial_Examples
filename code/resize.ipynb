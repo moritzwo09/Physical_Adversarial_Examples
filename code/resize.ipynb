{
 "cells": [
  {
   "cell_type": "code",
   "id": "initial_id",
   "metadata": {
    "collapsed": true,
    "ExecuteTime": {
     "end_time": "2025-10-25T16:03:49.233835Z",
     "start_time": "2025-10-25T16:03:49.230564Z"
    }
   },
   "source": [
    "from torchvision.transforms import ToTensor, Resize, Compose\n",
    "from torch.utils.data import DataLoader\n",
    "from pytorch_ood.utils import ToRGB\n",
    "from gtsrb import GTSRB\n",
    "from PIL import Image"
   ],
   "outputs": [],
   "execution_count": 17
  },
  {
   "metadata": {
    "ExecuteTime": {
     "end_time": "2025-10-25T15:50:16.721708Z",
     "start_time": "2025-10-25T15:50:16.698008Z"
    }
   },
   "cell_type": "code",
   "source": [
    "trans = Compose([\n",
    "            ToRGB(),\n",
    "            ToTensor(),\n",
    "            Resize((32, 32), antialias=True)\n",
    "        ])\n",
    "\n",
    "\n",
    "batch_size = 32\n",
    "test_data = GTSRB(root=\".\", train=False, transforms=trans)\n",
    "test_loader = DataLoader(test_data, batch_size=batch_size, shuffle=False, num_workers=2)"
   ],
   "id": "2341d15bf6eb05c7",
   "outputs": [],
   "execution_count": 4
  },
  {
   "metadata": {
    "ExecuteTime": {
     "end_time": "2025-10-25T15:56:50.845954Z",
     "start_time": "2025-10-25T15:56:43.031839Z"
    }
   },
   "cell_type": "code",
   "source": [
    "for ind, (x,y) in enumerate(test_loader):\n",
    "    tensor = y[:,0]\n",
    "    labels = tensor.tolist()\n",
    "    break\n",
    "\n",
    "for i, s in enumerate(labels):\n",
    "    print(f\"{i}. {test_data.class_to_name[s]}\")"
   ],
   "id": "97f84c7e39525159",
   "outputs": [
    {
     "name": "stdout",
     "output_type": "stream",
     "text": [
      "0. no trucks\n",
      "1. speed limit 30\n",
      "2. keep right\n",
      "3. go right\n",
      "4. priority at next intersection\n",
      "5. keep right\n",
      "6. danger\n",
      "7. priority road\n",
      "8. construction\n",
      "9. go straight\n",
      "10. priority road\n",
      "11. speed limit 100\n",
      "12. slippery road\n",
      "13. speed limit 100\n",
      "14. speed limit 70\n",
      "15. no overtaking\n",
      "16. bend\n",
      "17. bend right\n",
      "18. pedestrian crossing\n",
      "19. keep right\n",
      "20. speed limit 70\n",
      "21. go right\n",
      "22. no overtaking\n",
      "23. speed limit 60\n",
      "24. speed limit 30\n",
      "25. priority at next intersection\n",
      "26. give way\n",
      "27. no overtaking (trucks)\n",
      "28. no overtaking\n",
      "29. priority at next intersection\n",
      "30. speed limit 80\n",
      "31. no entry\n"
     ]
    }
   ],
   "execution_count": 15
  },
  {
   "metadata": {
    "ExecuteTime": {
     "end_time": "2025-10-25T17:00:07.938732Z",
     "start_time": "2025-10-25T17:00:07.638478Z"
    }
   },
   "cell_type": "code",
   "source": [
    "stop_sign = Image.open(\"GTSRB/Meta/14.png\")\n",
    "speed_80 = Image.open(\"GTSRB/Meta/5.png\")\n",
    "no_overtaking = Image.open(\"GTSRB/Meta/9.png\")\n",
    "\n",
    "\n",
    "stop_sign = stop_sign.resize((1240, 1754))\n",
    "speed_80 = speed_80.resize((1240, 1754))\n",
    "no_overtaking = no_overtaking.resize((1240, 1754))\n",
    "\n",
    "no_overtaking.save(\"imgs/no_overtaking.png\")\n",
    "speed_80.save(\"imgs/speed_80.png\")\n",
    "stop_sign.save(\"imgs/stop_sign.png\")\n"
   ],
   "id": "a7b38d7c58e4ae30",
   "outputs": [],
   "execution_count": 32
  }
 ],
 "metadata": {
  "kernelspec": {
   "display_name": "Python 3",
   "language": "python",
   "name": "python3"
  },
  "language_info": {
   "codemirror_mode": {
    "name": "ipython",
    "version": 2
   },
   "file_extension": ".py",
   "mimetype": "text/x-python",
   "name": "python",
   "nbconvert_exporter": "python",
   "pygments_lexer": "ipython2",
   "version": "2.7.6"
  }
 },
 "nbformat": 4,
 "nbformat_minor": 5
}
